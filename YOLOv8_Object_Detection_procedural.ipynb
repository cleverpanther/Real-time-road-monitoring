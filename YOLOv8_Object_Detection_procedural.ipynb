{
  "nbformat": 4,
  "nbformat_minor": 0,
  "metadata": {
    "colab": {
      "provenance": []
    },
    "kernelspec": {
      "name": "python3",
      "display_name": "Python 3"
    },
    "language_info": {
      "name": "python"
    },
    "widgets": {
      "application/vnd.jupyter.widget-state+json": {
        "4e9e361df1aa4368b3b0d4d41410d17a": {
          "model_module": "@jupyter-widgets/controls",
          "model_name": "HBoxModel",
          "model_module_version": "1.5.0",
          "state": {
            "_dom_classes": [],
            "_model_module": "@jupyter-widgets/controls",
            "_model_module_version": "1.5.0",
            "_model_name": "HBoxModel",
            "_view_count": null,
            "_view_module": "@jupyter-widgets/controls",
            "_view_module_version": "1.5.0",
            "_view_name": "HBoxView",
            "box_style": "",
            "children": [
              "IPY_MODEL_5f928e1127354cac9acdf20621fb1134",
              "IPY_MODEL_43c2b9477ce544ddb876987d40ac4624",
              "IPY_MODEL_e0841114f0484fcd96e0f122f8a04ed8"
            ],
            "layout": "IPY_MODEL_d6769cfa56144bcb9b279d3b8a5e0073"
          }
        },
        "5f928e1127354cac9acdf20621fb1134": {
          "model_module": "@jupyter-widgets/controls",
          "model_name": "HTMLModel",
          "model_module_version": "1.5.0",
          "state": {
            "_dom_classes": [],
            "_model_module": "@jupyter-widgets/controls",
            "_model_module_version": "1.5.0",
            "_model_name": "HTMLModel",
            "_view_count": null,
            "_view_module": "@jupyter-widgets/controls",
            "_view_module_version": "1.5.0",
            "_view_name": "HTMLView",
            "description": "",
            "description_tooltip": null,
            "layout": "IPY_MODEL_2614e5de0db04385980b81bfa60653e8",
            "placeholder": "​",
            "style": "IPY_MODEL_cb8976a404da4fa29f5dd18a99c75b67",
            "value": "100%"
          }
        },
        "43c2b9477ce544ddb876987d40ac4624": {
          "model_module": "@jupyter-widgets/controls",
          "model_name": "FloatProgressModel",
          "model_module_version": "1.5.0",
          "state": {
            "_dom_classes": [],
            "_model_module": "@jupyter-widgets/controls",
            "_model_module_version": "1.5.0",
            "_model_name": "FloatProgressModel",
            "_view_count": null,
            "_view_module": "@jupyter-widgets/controls",
            "_view_module_version": "1.5.0",
            "_view_name": "ProgressView",
            "bar_style": "success",
            "description": "",
            "description_tooltip": null,
            "layout": "IPY_MODEL_60703fdd9ed94443b5f6b6c6f1fadfc5",
            "max": 6534387,
            "min": 0,
            "orientation": "horizontal",
            "style": "IPY_MODEL_10d39c5290b347c09438815d7d84dda2",
            "value": 6534387
          }
        },
        "e0841114f0484fcd96e0f122f8a04ed8": {
          "model_module": "@jupyter-widgets/controls",
          "model_name": "HTMLModel",
          "model_module_version": "1.5.0",
          "state": {
            "_dom_classes": [],
            "_model_module": "@jupyter-widgets/controls",
            "_model_module_version": "1.5.0",
            "_model_name": "HTMLModel",
            "_view_count": null,
            "_view_module": "@jupyter-widgets/controls",
            "_view_module_version": "1.5.0",
            "_view_name": "HTMLView",
            "description": "",
            "description_tooltip": null,
            "layout": "IPY_MODEL_01f46de254544da49a4df18ea12b09ff",
            "placeholder": "​",
            "style": "IPY_MODEL_4eed378f7d1d4a90989586fcd156e2aa",
            "value": " 6.23M/6.23M [00:00&lt;00:00, 38.4MB/s]"
          }
        },
        "d6769cfa56144bcb9b279d3b8a5e0073": {
          "model_module": "@jupyter-widgets/base",
          "model_name": "LayoutModel",
          "model_module_version": "1.2.0",
          "state": {
            "_model_module": "@jupyter-widgets/base",
            "_model_module_version": "1.2.0",
            "_model_name": "LayoutModel",
            "_view_count": null,
            "_view_module": "@jupyter-widgets/base",
            "_view_module_version": "1.2.0",
            "_view_name": "LayoutView",
            "align_content": null,
            "align_items": null,
            "align_self": null,
            "border": null,
            "bottom": null,
            "display": null,
            "flex": null,
            "flex_flow": null,
            "grid_area": null,
            "grid_auto_columns": null,
            "grid_auto_flow": null,
            "grid_auto_rows": null,
            "grid_column": null,
            "grid_gap": null,
            "grid_row": null,
            "grid_template_areas": null,
            "grid_template_columns": null,
            "grid_template_rows": null,
            "height": null,
            "justify_content": null,
            "justify_items": null,
            "left": null,
            "margin": null,
            "max_height": null,
            "max_width": null,
            "min_height": null,
            "min_width": null,
            "object_fit": null,
            "object_position": null,
            "order": null,
            "overflow": null,
            "overflow_x": null,
            "overflow_y": null,
            "padding": null,
            "right": null,
            "top": null,
            "visibility": null,
            "width": null
          }
        },
        "2614e5de0db04385980b81bfa60653e8": {
          "model_module": "@jupyter-widgets/base",
          "model_name": "LayoutModel",
          "model_module_version": "1.2.0",
          "state": {
            "_model_module": "@jupyter-widgets/base",
            "_model_module_version": "1.2.0",
            "_model_name": "LayoutModel",
            "_view_count": null,
            "_view_module": "@jupyter-widgets/base",
            "_view_module_version": "1.2.0",
            "_view_name": "LayoutView",
            "align_content": null,
            "align_items": null,
            "align_self": null,
            "border": null,
            "bottom": null,
            "display": null,
            "flex": null,
            "flex_flow": null,
            "grid_area": null,
            "grid_auto_columns": null,
            "grid_auto_flow": null,
            "grid_auto_rows": null,
            "grid_column": null,
            "grid_gap": null,
            "grid_row": null,
            "grid_template_areas": null,
            "grid_template_columns": null,
            "grid_template_rows": null,
            "height": null,
            "justify_content": null,
            "justify_items": null,
            "left": null,
            "margin": null,
            "max_height": null,
            "max_width": null,
            "min_height": null,
            "min_width": null,
            "object_fit": null,
            "object_position": null,
            "order": null,
            "overflow": null,
            "overflow_x": null,
            "overflow_y": null,
            "padding": null,
            "right": null,
            "top": null,
            "visibility": null,
            "width": null
          }
        },
        "cb8976a404da4fa29f5dd18a99c75b67": {
          "model_module": "@jupyter-widgets/controls",
          "model_name": "DescriptionStyleModel",
          "model_module_version": "1.5.0",
          "state": {
            "_model_module": "@jupyter-widgets/controls",
            "_model_module_version": "1.5.0",
            "_model_name": "DescriptionStyleModel",
            "_view_count": null,
            "_view_module": "@jupyter-widgets/base",
            "_view_module_version": "1.2.0",
            "_view_name": "StyleView",
            "description_width": ""
          }
        },
        "60703fdd9ed94443b5f6b6c6f1fadfc5": {
          "model_module": "@jupyter-widgets/base",
          "model_name": "LayoutModel",
          "model_module_version": "1.2.0",
          "state": {
            "_model_module": "@jupyter-widgets/base",
            "_model_module_version": "1.2.0",
            "_model_name": "LayoutModel",
            "_view_count": null,
            "_view_module": "@jupyter-widgets/base",
            "_view_module_version": "1.2.0",
            "_view_name": "LayoutView",
            "align_content": null,
            "align_items": null,
            "align_self": null,
            "border": null,
            "bottom": null,
            "display": null,
            "flex": null,
            "flex_flow": null,
            "grid_area": null,
            "grid_auto_columns": null,
            "grid_auto_flow": null,
            "grid_auto_rows": null,
            "grid_column": null,
            "grid_gap": null,
            "grid_row": null,
            "grid_template_areas": null,
            "grid_template_columns": null,
            "grid_template_rows": null,
            "height": null,
            "justify_content": null,
            "justify_items": null,
            "left": null,
            "margin": null,
            "max_height": null,
            "max_width": null,
            "min_height": null,
            "min_width": null,
            "object_fit": null,
            "object_position": null,
            "order": null,
            "overflow": null,
            "overflow_x": null,
            "overflow_y": null,
            "padding": null,
            "right": null,
            "top": null,
            "visibility": null,
            "width": null
          }
        },
        "10d39c5290b347c09438815d7d84dda2": {
          "model_module": "@jupyter-widgets/controls",
          "model_name": "ProgressStyleModel",
          "model_module_version": "1.5.0",
          "state": {
            "_model_module": "@jupyter-widgets/controls",
            "_model_module_version": "1.5.0",
            "_model_name": "ProgressStyleModel",
            "_view_count": null,
            "_view_module": "@jupyter-widgets/base",
            "_view_module_version": "1.2.0",
            "_view_name": "StyleView",
            "bar_color": null,
            "description_width": ""
          }
        },
        "01f46de254544da49a4df18ea12b09ff": {
          "model_module": "@jupyter-widgets/base",
          "model_name": "LayoutModel",
          "model_module_version": "1.2.0",
          "state": {
            "_model_module": "@jupyter-widgets/base",
            "_model_module_version": "1.2.0",
            "_model_name": "LayoutModel",
            "_view_count": null,
            "_view_module": "@jupyter-widgets/base",
            "_view_module_version": "1.2.0",
            "_view_name": "LayoutView",
            "align_content": null,
            "align_items": null,
            "align_self": null,
            "border": null,
            "bottom": null,
            "display": null,
            "flex": null,
            "flex_flow": null,
            "grid_area": null,
            "grid_auto_columns": null,
            "grid_auto_flow": null,
            "grid_auto_rows": null,
            "grid_column": null,
            "grid_gap": null,
            "grid_row": null,
            "grid_template_areas": null,
            "grid_template_columns": null,
            "grid_template_rows": null,
            "height": null,
            "justify_content": null,
            "justify_items": null,
            "left": null,
            "margin": null,
            "max_height": null,
            "max_width": null,
            "min_height": null,
            "min_width": null,
            "object_fit": null,
            "object_position": null,
            "order": null,
            "overflow": null,
            "overflow_x": null,
            "overflow_y": null,
            "padding": null,
            "right": null,
            "top": null,
            "visibility": null,
            "width": null
          }
        },
        "4eed378f7d1d4a90989586fcd156e2aa": {
          "model_module": "@jupyter-widgets/controls",
          "model_name": "DescriptionStyleModel",
          "model_module_version": "1.5.0",
          "state": {
            "_model_module": "@jupyter-widgets/controls",
            "_model_module_version": "1.5.0",
            "_model_name": "DescriptionStyleModel",
            "_view_count": null,
            "_view_module": "@jupyter-widgets/base",
            "_view_module_version": "1.2.0",
            "_view_name": "StyleView",
            "description_width": ""
          }
        },
        "1b82afee765b4d8f8f5cce6ec41be29b": {
          "model_module": "@jupyter-widgets/controls",
          "model_name": "HBoxModel",
          "model_module_version": "1.5.0",
          "state": {
            "_dom_classes": [],
            "_model_module": "@jupyter-widgets/controls",
            "_model_module_version": "1.5.0",
            "_model_name": "HBoxModel",
            "_view_count": null,
            "_view_module": "@jupyter-widgets/controls",
            "_view_module_version": "1.5.0",
            "_view_name": "HBoxView",
            "box_style": "",
            "children": [
              "IPY_MODEL_b8554c769f3846f39ae85ac1f5af69fe",
              "IPY_MODEL_dcb428b59a2f48bf9732e418d581e29c",
              "IPY_MODEL_c3f1f66f2bc54ac2813f96e26f0f7252"
            ],
            "layout": "IPY_MODEL_782ce2398d9342b2b3dde3633d6d3b9d"
          }
        },
        "b8554c769f3846f39ae85ac1f5af69fe": {
          "model_module": "@jupyter-widgets/controls",
          "model_name": "HTMLModel",
          "model_module_version": "1.5.0",
          "state": {
            "_dom_classes": [],
            "_model_module": "@jupyter-widgets/controls",
            "_model_module_version": "1.5.0",
            "_model_name": "HTMLModel",
            "_view_count": null,
            "_view_module": "@jupyter-widgets/controls",
            "_view_module_version": "1.5.0",
            "_view_name": "HTMLView",
            "description": "",
            "description_tooltip": null,
            "layout": "IPY_MODEL_f87ee0160216431dbd6f42b3c3efb5cb",
            "placeholder": "​",
            "style": "IPY_MODEL_831dfcca869545e0a1d644a41ec65b65",
            "value": "100%"
          }
        },
        "dcb428b59a2f48bf9732e418d581e29c": {
          "model_module": "@jupyter-widgets/controls",
          "model_name": "FloatProgressModel",
          "model_module_version": "1.5.0",
          "state": {
            "_dom_classes": [],
            "_model_module": "@jupyter-widgets/controls",
            "_model_module_version": "1.5.0",
            "_model_name": "FloatProgressModel",
            "_view_count": null,
            "_view_module": "@jupyter-widgets/controls",
            "_view_module_version": "1.5.0",
            "_view_name": "ProgressView",
            "bar_style": "success",
            "description": "",
            "description_tooltip": null,
            "layout": "IPY_MODEL_9b4ff5caccf640a581796d91b019b11a",
            "max": 52117635,
            "min": 0,
            "orientation": "horizontal",
            "style": "IPY_MODEL_3279d836196a4642a62321ead385ae6b",
            "value": 52117635
          }
        },
        "c3f1f66f2bc54ac2813f96e26f0f7252": {
          "model_module": "@jupyter-widgets/controls",
          "model_name": "HTMLModel",
          "model_module_version": "1.5.0",
          "state": {
            "_dom_classes": [],
            "_model_module": "@jupyter-widgets/controls",
            "_model_module_version": "1.5.0",
            "_model_name": "HTMLModel",
            "_view_count": null,
            "_view_module": "@jupyter-widgets/controls",
            "_view_module_version": "1.5.0",
            "_view_name": "HTMLView",
            "description": "",
            "description_tooltip": null,
            "layout": "IPY_MODEL_4add89522dc841ba99932b46e5100b5c",
            "placeholder": "​",
            "style": "IPY_MODEL_b3cdb50dc33240d9b4acc117c7114a04",
            "value": " 49.7M/49.7M [00:00&lt;00:00, 135MB/s]"
          }
        },
        "782ce2398d9342b2b3dde3633d6d3b9d": {
          "model_module": "@jupyter-widgets/base",
          "model_name": "LayoutModel",
          "model_module_version": "1.2.0",
          "state": {
            "_model_module": "@jupyter-widgets/base",
            "_model_module_version": "1.2.0",
            "_model_name": "LayoutModel",
            "_view_count": null,
            "_view_module": "@jupyter-widgets/base",
            "_view_module_version": "1.2.0",
            "_view_name": "LayoutView",
            "align_content": null,
            "align_items": null,
            "align_self": null,
            "border": null,
            "bottom": null,
            "display": null,
            "flex": null,
            "flex_flow": null,
            "grid_area": null,
            "grid_auto_columns": null,
            "grid_auto_flow": null,
            "grid_auto_rows": null,
            "grid_column": null,
            "grid_gap": null,
            "grid_row": null,
            "grid_template_areas": null,
            "grid_template_columns": null,
            "grid_template_rows": null,
            "height": null,
            "justify_content": null,
            "justify_items": null,
            "left": null,
            "margin": null,
            "max_height": null,
            "max_width": null,
            "min_height": null,
            "min_width": null,
            "object_fit": null,
            "object_position": null,
            "order": null,
            "overflow": null,
            "overflow_x": null,
            "overflow_y": null,
            "padding": null,
            "right": null,
            "top": null,
            "visibility": null,
            "width": null
          }
        },
        "f87ee0160216431dbd6f42b3c3efb5cb": {
          "model_module": "@jupyter-widgets/base",
          "model_name": "LayoutModel",
          "model_module_version": "1.2.0",
          "state": {
            "_model_module": "@jupyter-widgets/base",
            "_model_module_version": "1.2.0",
            "_model_name": "LayoutModel",
            "_view_count": null,
            "_view_module": "@jupyter-widgets/base",
            "_view_module_version": "1.2.0",
            "_view_name": "LayoutView",
            "align_content": null,
            "align_items": null,
            "align_self": null,
            "border": null,
            "bottom": null,
            "display": null,
            "flex": null,
            "flex_flow": null,
            "grid_area": null,
            "grid_auto_columns": null,
            "grid_auto_flow": null,
            "grid_auto_rows": null,
            "grid_column": null,
            "grid_gap": null,
            "grid_row": null,
            "grid_template_areas": null,
            "grid_template_columns": null,
            "grid_template_rows": null,
            "height": null,
            "justify_content": null,
            "justify_items": null,
            "left": null,
            "margin": null,
            "max_height": null,
            "max_width": null,
            "min_height": null,
            "min_width": null,
            "object_fit": null,
            "object_position": null,
            "order": null,
            "overflow": null,
            "overflow_x": null,
            "overflow_y": null,
            "padding": null,
            "right": null,
            "top": null,
            "visibility": null,
            "width": null
          }
        },
        "831dfcca869545e0a1d644a41ec65b65": {
          "model_module": "@jupyter-widgets/controls",
          "model_name": "DescriptionStyleModel",
          "model_module_version": "1.5.0",
          "state": {
            "_model_module": "@jupyter-widgets/controls",
            "_model_module_version": "1.5.0",
            "_model_name": "DescriptionStyleModel",
            "_view_count": null,
            "_view_module": "@jupyter-widgets/base",
            "_view_module_version": "1.2.0",
            "_view_name": "StyleView",
            "description_width": ""
          }
        },
        "9b4ff5caccf640a581796d91b019b11a": {
          "model_module": "@jupyter-widgets/base",
          "model_name": "LayoutModel",
          "model_module_version": "1.2.0",
          "state": {
            "_model_module": "@jupyter-widgets/base",
            "_model_module_version": "1.2.0",
            "_model_name": "LayoutModel",
            "_view_count": null,
            "_view_module": "@jupyter-widgets/base",
            "_view_module_version": "1.2.0",
            "_view_name": "LayoutView",
            "align_content": null,
            "align_items": null,
            "align_self": null,
            "border": null,
            "bottom": null,
            "display": null,
            "flex": null,
            "flex_flow": null,
            "grid_area": null,
            "grid_auto_columns": null,
            "grid_auto_flow": null,
            "grid_auto_rows": null,
            "grid_column": null,
            "grid_gap": null,
            "grid_row": null,
            "grid_template_areas": null,
            "grid_template_columns": null,
            "grid_template_rows": null,
            "height": null,
            "justify_content": null,
            "justify_items": null,
            "left": null,
            "margin": null,
            "max_height": null,
            "max_width": null,
            "min_height": null,
            "min_width": null,
            "object_fit": null,
            "object_position": null,
            "order": null,
            "overflow": null,
            "overflow_x": null,
            "overflow_y": null,
            "padding": null,
            "right": null,
            "top": null,
            "visibility": null,
            "width": null
          }
        },
        "3279d836196a4642a62321ead385ae6b": {
          "model_module": "@jupyter-widgets/controls",
          "model_name": "ProgressStyleModel",
          "model_module_version": "1.5.0",
          "state": {
            "_model_module": "@jupyter-widgets/controls",
            "_model_module_version": "1.5.0",
            "_model_name": "ProgressStyleModel",
            "_view_count": null,
            "_view_module": "@jupyter-widgets/base",
            "_view_module_version": "1.2.0",
            "_view_name": "StyleView",
            "bar_color": null,
            "description_width": ""
          }
        },
        "4add89522dc841ba99932b46e5100b5c": {
          "model_module": "@jupyter-widgets/base",
          "model_name": "LayoutModel",
          "model_module_version": "1.2.0",
          "state": {
            "_model_module": "@jupyter-widgets/base",
            "_model_module_version": "1.2.0",
            "_model_name": "LayoutModel",
            "_view_count": null,
            "_view_module": "@jupyter-widgets/base",
            "_view_module_version": "1.2.0",
            "_view_name": "LayoutView",
            "align_content": null,
            "align_items": null,
            "align_self": null,
            "border": null,
            "bottom": null,
            "display": null,
            "flex": null,
            "flex_flow": null,
            "grid_area": null,
            "grid_auto_columns": null,
            "grid_auto_flow": null,
            "grid_auto_rows": null,
            "grid_column": null,
            "grid_gap": null,
            "grid_row": null,
            "grid_template_areas": null,
            "grid_template_columns": null,
            "grid_template_rows": null,
            "height": null,
            "justify_content": null,
            "justify_items": null,
            "left": null,
            "margin": null,
            "max_height": null,
            "max_width": null,
            "min_height": null,
            "min_width": null,
            "object_fit": null,
            "object_position": null,
            "order": null,
            "overflow": null,
            "overflow_x": null,
            "overflow_y": null,
            "padding": null,
            "right": null,
            "top": null,
            "visibility": null,
            "width": null
          }
        },
        "b3cdb50dc33240d9b4acc117c7114a04": {
          "model_module": "@jupyter-widgets/controls",
          "model_name": "DescriptionStyleModel",
          "model_module_version": "1.5.0",
          "state": {
            "_model_module": "@jupyter-widgets/controls",
            "_model_module_version": "1.5.0",
            "_model_name": "DescriptionStyleModel",
            "_view_count": null,
            "_view_module": "@jupyter-widgets/base",
            "_view_module_version": "1.2.0",
            "_view_name": "StyleView",
            "description_width": ""
          }
        },
        "f703ea1e80e14cf6857fc545293eb160": {
          "model_module": "@jupyter-widgets/controls",
          "model_name": "HBoxModel",
          "model_module_version": "1.5.0",
          "state": {
            "_dom_classes": [],
            "_model_module": "@jupyter-widgets/controls",
            "_model_module_version": "1.5.0",
            "_model_name": "HBoxModel",
            "_view_count": null,
            "_view_module": "@jupyter-widgets/controls",
            "_view_module_version": "1.5.0",
            "_view_name": "HBoxView",
            "box_style": "",
            "children": [
              "IPY_MODEL_f6853d7a551041e3af3165b8bed5308a",
              "IPY_MODEL_aee5847b05704f09b2990b322a2966c1",
              "IPY_MODEL_37bea9b68a0a4e3bb05acf146276a570"
            ],
            "layout": "IPY_MODEL_b8b68376b92a48e38b211aa61ab1558d"
          }
        },
        "f6853d7a551041e3af3165b8bed5308a": {
          "model_module": "@jupyter-widgets/controls",
          "model_name": "HTMLModel",
          "model_module_version": "1.5.0",
          "state": {
            "_dom_classes": [],
            "_model_module": "@jupyter-widgets/controls",
            "_model_module_version": "1.5.0",
            "_model_name": "HTMLModel",
            "_view_count": null,
            "_view_module": "@jupyter-widgets/controls",
            "_view_module_version": "1.5.0",
            "_view_name": "HTMLView",
            "description": "",
            "description_tooltip": null,
            "layout": "IPY_MODEL_847a1e272b36497fafcd2cbf499f4a4b",
            "placeholder": "​",
            "style": "IPY_MODEL_2883351b443f4064a028073527e5338e",
            "value": "100%"
          }
        },
        "aee5847b05704f09b2990b322a2966c1": {
          "model_module": "@jupyter-widgets/controls",
          "model_name": "FloatProgressModel",
          "model_module_version": "1.5.0",
          "state": {
            "_dom_classes": [],
            "_model_module": "@jupyter-widgets/controls",
            "_model_module_version": "1.5.0",
            "_model_name": "FloatProgressModel",
            "_view_count": null,
            "_view_module": "@jupyter-widgets/controls",
            "_view_module_version": "1.5.0",
            "_view_name": "ProgressView",
            "bar_style": "success",
            "description": "",
            "description_tooltip": null,
            "layout": "IPY_MODEL_057900b56aaf48c38f2e698908d301a1",
            "max": 136867539,
            "min": 0,
            "orientation": "horizontal",
            "style": "IPY_MODEL_3052b76131c74944892313eb9ea3e27c",
            "value": 136867539
          }
        },
        "37bea9b68a0a4e3bb05acf146276a570": {
          "model_module": "@jupyter-widgets/controls",
          "model_name": "HTMLModel",
          "model_module_version": "1.5.0",
          "state": {
            "_dom_classes": [],
            "_model_module": "@jupyter-widgets/controls",
            "_model_module_version": "1.5.0",
            "_model_name": "HTMLModel",
            "_view_count": null,
            "_view_module": "@jupyter-widgets/controls",
            "_view_module_version": "1.5.0",
            "_view_name": "HTMLView",
            "description": "",
            "description_tooltip": null,
            "layout": "IPY_MODEL_024721d3fcab43c18b14b188010bd4c3",
            "placeholder": "​",
            "style": "IPY_MODEL_7b07903f80354233babec6f33b28fbae",
            "value": " 131M/131M [00:01&lt;00:00, 166MB/s]"
          }
        },
        "b8b68376b92a48e38b211aa61ab1558d": {
          "model_module": "@jupyter-widgets/base",
          "model_name": "LayoutModel",
          "model_module_version": "1.2.0",
          "state": {
            "_model_module": "@jupyter-widgets/base",
            "_model_module_version": "1.2.0",
            "_model_name": "LayoutModel",
            "_view_count": null,
            "_view_module": "@jupyter-widgets/base",
            "_view_module_version": "1.2.0",
            "_view_name": "LayoutView",
            "align_content": null,
            "align_items": null,
            "align_self": null,
            "border": null,
            "bottom": null,
            "display": null,
            "flex": null,
            "flex_flow": null,
            "grid_area": null,
            "grid_auto_columns": null,
            "grid_auto_flow": null,
            "grid_auto_rows": null,
            "grid_column": null,
            "grid_gap": null,
            "grid_row": null,
            "grid_template_areas": null,
            "grid_template_columns": null,
            "grid_template_rows": null,
            "height": null,
            "justify_content": null,
            "justify_items": null,
            "left": null,
            "margin": null,
            "max_height": null,
            "max_width": null,
            "min_height": null,
            "min_width": null,
            "object_fit": null,
            "object_position": null,
            "order": null,
            "overflow": null,
            "overflow_x": null,
            "overflow_y": null,
            "padding": null,
            "right": null,
            "top": null,
            "visibility": null,
            "width": null
          }
        },
        "847a1e272b36497fafcd2cbf499f4a4b": {
          "model_module": "@jupyter-widgets/base",
          "model_name": "LayoutModel",
          "model_module_version": "1.2.0",
          "state": {
            "_model_module": "@jupyter-widgets/base",
            "_model_module_version": "1.2.0",
            "_model_name": "LayoutModel",
            "_view_count": null,
            "_view_module": "@jupyter-widgets/base",
            "_view_module_version": "1.2.0",
            "_view_name": "LayoutView",
            "align_content": null,
            "align_items": null,
            "align_self": null,
            "border": null,
            "bottom": null,
            "display": null,
            "flex": null,
            "flex_flow": null,
            "grid_area": null,
            "grid_auto_columns": null,
            "grid_auto_flow": null,
            "grid_auto_rows": null,
            "grid_column": null,
            "grid_gap": null,
            "grid_row": null,
            "grid_template_areas": null,
            "grid_template_columns": null,
            "grid_template_rows": null,
            "height": null,
            "justify_content": null,
            "justify_items": null,
            "left": null,
            "margin": null,
            "max_height": null,
            "max_width": null,
            "min_height": null,
            "min_width": null,
            "object_fit": null,
            "object_position": null,
            "order": null,
            "overflow": null,
            "overflow_x": null,
            "overflow_y": null,
            "padding": null,
            "right": null,
            "top": null,
            "visibility": null,
            "width": null
          }
        },
        "2883351b443f4064a028073527e5338e": {
          "model_module": "@jupyter-widgets/controls",
          "model_name": "DescriptionStyleModel",
          "model_module_version": "1.5.0",
          "state": {
            "_model_module": "@jupyter-widgets/controls",
            "_model_module_version": "1.5.0",
            "_model_name": "DescriptionStyleModel",
            "_view_count": null,
            "_view_module": "@jupyter-widgets/base",
            "_view_module_version": "1.2.0",
            "_view_name": "StyleView",
            "description_width": ""
          }
        },
        "057900b56aaf48c38f2e698908d301a1": {
          "model_module": "@jupyter-widgets/base",
          "model_name": "LayoutModel",
          "model_module_version": "1.2.0",
          "state": {
            "_model_module": "@jupyter-widgets/base",
            "_model_module_version": "1.2.0",
            "_model_name": "LayoutModel",
            "_view_count": null,
            "_view_module": "@jupyter-widgets/base",
            "_view_module_version": "1.2.0",
            "_view_name": "LayoutView",
            "align_content": null,
            "align_items": null,
            "align_self": null,
            "border": null,
            "bottom": null,
            "display": null,
            "flex": null,
            "flex_flow": null,
            "grid_area": null,
            "grid_auto_columns": null,
            "grid_auto_flow": null,
            "grid_auto_rows": null,
            "grid_column": null,
            "grid_gap": null,
            "grid_row": null,
            "grid_template_areas": null,
            "grid_template_columns": null,
            "grid_template_rows": null,
            "height": null,
            "justify_content": null,
            "justify_items": null,
            "left": null,
            "margin": null,
            "max_height": null,
            "max_width": null,
            "min_height": null,
            "min_width": null,
            "object_fit": null,
            "object_position": null,
            "order": null,
            "overflow": null,
            "overflow_x": null,
            "overflow_y": null,
            "padding": null,
            "right": null,
            "top": null,
            "visibility": null,
            "width": null
          }
        },
        "3052b76131c74944892313eb9ea3e27c": {
          "model_module": "@jupyter-widgets/controls",
          "model_name": "ProgressStyleModel",
          "model_module_version": "1.5.0",
          "state": {
            "_model_module": "@jupyter-widgets/controls",
            "_model_module_version": "1.5.0",
            "_model_name": "ProgressStyleModel",
            "_view_count": null,
            "_view_module": "@jupyter-widgets/base",
            "_view_module_version": "1.2.0",
            "_view_name": "StyleView",
            "bar_color": null,
            "description_width": ""
          }
        },
        "024721d3fcab43c18b14b188010bd4c3": {
          "model_module": "@jupyter-widgets/base",
          "model_name": "LayoutModel",
          "model_module_version": "1.2.0",
          "state": {
            "_model_module": "@jupyter-widgets/base",
            "_model_module_version": "1.2.0",
            "_model_name": "LayoutModel",
            "_view_count": null,
            "_view_module": "@jupyter-widgets/base",
            "_view_module_version": "1.2.0",
            "_view_name": "LayoutView",
            "align_content": null,
            "align_items": null,
            "align_self": null,
            "border": null,
            "bottom": null,
            "display": null,
            "flex": null,
            "flex_flow": null,
            "grid_area": null,
            "grid_auto_columns": null,
            "grid_auto_flow": null,
            "grid_auto_rows": null,
            "grid_column": null,
            "grid_gap": null,
            "grid_row": null,
            "grid_template_areas": null,
            "grid_template_columns": null,
            "grid_template_rows": null,
            "height": null,
            "justify_content": null,
            "justify_items": null,
            "left": null,
            "margin": null,
            "max_height": null,
            "max_width": null,
            "min_height": null,
            "min_width": null,
            "object_fit": null,
            "object_position": null,
            "order": null,
            "overflow": null,
            "overflow_x": null,
            "overflow_y": null,
            "padding": null,
            "right": null,
            "top": null,
            "visibility": null,
            "width": null
          }
        },
        "7b07903f80354233babec6f33b28fbae": {
          "model_module": "@jupyter-widgets/controls",
          "model_name": "DescriptionStyleModel",
          "model_module_version": "1.5.0",
          "state": {
            "_model_module": "@jupyter-widgets/controls",
            "_model_module_version": "1.5.0",
            "_model_name": "DescriptionStyleModel",
            "_view_count": null,
            "_view_module": "@jupyter-widgets/base",
            "_view_module_version": "1.2.0",
            "_view_name": "StyleView",
            "description_width": ""
          }
        },
        "4539740cba4a4f0391cf73855f052d85": {
          "model_module": "@jupyter-widgets/controls",
          "model_name": "HBoxModel",
          "model_module_version": "1.5.0",
          "state": {
            "_dom_classes": [],
            "_model_module": "@jupyter-widgets/controls",
            "_model_module_version": "1.5.0",
            "_model_name": "HBoxModel",
            "_view_count": null,
            "_view_module": "@jupyter-widgets/controls",
            "_view_module_version": "1.5.0",
            "_view_name": "HBoxView",
            "box_style": "",
            "children": [
              "IPY_MODEL_7c7ac3cfbe374b23886b014829a95084",
              "IPY_MODEL_1fd2f3d5bf7549559e3296dad154548d",
              "IPY_MODEL_cb6228a6ec514a78ba69e864c0c58bd4"
            ],
            "layout": "IPY_MODEL_910a4d24fc9f4015a151671d711f040d"
          }
        },
        "7c7ac3cfbe374b23886b014829a95084": {
          "model_module": "@jupyter-widgets/controls",
          "model_name": "HTMLModel",
          "model_module_version": "1.5.0",
          "state": {
            "_dom_classes": [],
            "_model_module": "@jupyter-widgets/controls",
            "_model_module_version": "1.5.0",
            "_model_name": "HTMLModel",
            "_view_count": null,
            "_view_module": "@jupyter-widgets/controls",
            "_view_module_version": "1.5.0",
            "_view_name": "HTMLView",
            "description": "",
            "description_tooltip": null,
            "layout": "IPY_MODEL_17f767a4aa8b467f8406f08ae7f3f8d7",
            "placeholder": "​",
            "style": "IPY_MODEL_f24a9634b40d45339c568317ff813fdd",
            "value": "100%"
          }
        },
        "1fd2f3d5bf7549559e3296dad154548d": {
          "model_module": "@jupyter-widgets/controls",
          "model_name": "FloatProgressModel",
          "model_module_version": "1.5.0",
          "state": {
            "_dom_classes": [],
            "_model_module": "@jupyter-widgets/controls",
            "_model_module_version": "1.5.0",
            "_model_name": "FloatProgressModel",
            "_view_count": null,
            "_view_module": "@jupyter-widgets/controls",
            "_view_module_version": "1.5.0",
            "_view_name": "ProgressView",
            "bar_style": "success",
            "description": "",
            "description_tooltip": null,
            "layout": "IPY_MODEL_712839b70e444088bdbf76aa74f80b2b",
            "max": 487438,
            "min": 0,
            "orientation": "horizontal",
            "style": "IPY_MODEL_2687d4215c884c4ba9d3bbeb237605af",
            "value": 487438
          }
        },
        "cb6228a6ec514a78ba69e864c0c58bd4": {
          "model_module": "@jupyter-widgets/controls",
          "model_name": "HTMLModel",
          "model_module_version": "1.5.0",
          "state": {
            "_dom_classes": [],
            "_model_module": "@jupyter-widgets/controls",
            "_model_module_version": "1.5.0",
            "_model_name": "HTMLModel",
            "_view_count": null,
            "_view_module": "@jupyter-widgets/controls",
            "_view_module_version": "1.5.0",
            "_view_name": "HTMLView",
            "description": "",
            "description_tooltip": null,
            "layout": "IPY_MODEL_3c1b30703da444d5a48d78b1d06f1dba",
            "placeholder": "​",
            "style": "IPY_MODEL_cd0e42bd908840fda7348119180b874a",
            "value": " 476k/476k [00:00&lt;00:00, 9.05MB/s]"
          }
        },
        "910a4d24fc9f4015a151671d711f040d": {
          "model_module": "@jupyter-widgets/base",
          "model_name": "LayoutModel",
          "model_module_version": "1.2.0",
          "state": {
            "_model_module": "@jupyter-widgets/base",
            "_model_module_version": "1.2.0",
            "_model_name": "LayoutModel",
            "_view_count": null,
            "_view_module": "@jupyter-widgets/base",
            "_view_module_version": "1.2.0",
            "_view_name": "LayoutView",
            "align_content": null,
            "align_items": null,
            "align_self": null,
            "border": null,
            "bottom": null,
            "display": null,
            "flex": null,
            "flex_flow": null,
            "grid_area": null,
            "grid_auto_columns": null,
            "grid_auto_flow": null,
            "grid_auto_rows": null,
            "grid_column": null,
            "grid_gap": null,
            "grid_row": null,
            "grid_template_areas": null,
            "grid_template_columns": null,
            "grid_template_rows": null,
            "height": null,
            "justify_content": null,
            "justify_items": null,
            "left": null,
            "margin": null,
            "max_height": null,
            "max_width": null,
            "min_height": null,
            "min_width": null,
            "object_fit": null,
            "object_position": null,
            "order": null,
            "overflow": null,
            "overflow_x": null,
            "overflow_y": null,
            "padding": null,
            "right": null,
            "top": null,
            "visibility": null,
            "width": null
          }
        },
        "17f767a4aa8b467f8406f08ae7f3f8d7": {
          "model_module": "@jupyter-widgets/base",
          "model_name": "LayoutModel",
          "model_module_version": "1.2.0",
          "state": {
            "_model_module": "@jupyter-widgets/base",
            "_model_module_version": "1.2.0",
            "_model_name": "LayoutModel",
            "_view_count": null,
            "_view_module": "@jupyter-widgets/base",
            "_view_module_version": "1.2.0",
            "_view_name": "LayoutView",
            "align_content": null,
            "align_items": null,
            "align_self": null,
            "border": null,
            "bottom": null,
            "display": null,
            "flex": null,
            "flex_flow": null,
            "grid_area": null,
            "grid_auto_columns": null,
            "grid_auto_flow": null,
            "grid_auto_rows": null,
            "grid_column": null,
            "grid_gap": null,
            "grid_row": null,
            "grid_template_areas": null,
            "grid_template_columns": null,
            "grid_template_rows": null,
            "height": null,
            "justify_content": null,
            "justify_items": null,
            "left": null,
            "margin": null,
            "max_height": null,
            "max_width": null,
            "min_height": null,
            "min_width": null,
            "object_fit": null,
            "object_position": null,
            "order": null,
            "overflow": null,
            "overflow_x": null,
            "overflow_y": null,
            "padding": null,
            "right": null,
            "top": null,
            "visibility": null,
            "width": null
          }
        },
        "f24a9634b40d45339c568317ff813fdd": {
          "model_module": "@jupyter-widgets/controls",
          "model_name": "DescriptionStyleModel",
          "model_module_version": "1.5.0",
          "state": {
            "_model_module": "@jupyter-widgets/controls",
            "_model_module_version": "1.5.0",
            "_model_name": "DescriptionStyleModel",
            "_view_count": null,
            "_view_module": "@jupyter-widgets/base",
            "_view_module_version": "1.2.0",
            "_view_name": "StyleView",
            "description_width": ""
          }
        },
        "712839b70e444088bdbf76aa74f80b2b": {
          "model_module": "@jupyter-widgets/base",
          "model_name": "LayoutModel",
          "model_module_version": "1.2.0",
          "state": {
            "_model_module": "@jupyter-widgets/base",
            "_model_module_version": "1.2.0",
            "_model_name": "LayoutModel",
            "_view_count": null,
            "_view_module": "@jupyter-widgets/base",
            "_view_module_version": "1.2.0",
            "_view_name": "LayoutView",
            "align_content": null,
            "align_items": null,
            "align_self": null,
            "border": null,
            "bottom": null,
            "display": null,
            "flex": null,
            "flex_flow": null,
            "grid_area": null,
            "grid_auto_columns": null,
            "grid_auto_flow": null,
            "grid_auto_rows": null,
            "grid_column": null,
            "grid_gap": null,
            "grid_row": null,
            "grid_template_areas": null,
            "grid_template_columns": null,
            "grid_template_rows": null,
            "height": null,
            "justify_content": null,
            "justify_items": null,
            "left": null,
            "margin": null,
            "max_height": null,
            "max_width": null,
            "min_height": null,
            "min_width": null,
            "object_fit": null,
            "object_position": null,
            "order": null,
            "overflow": null,
            "overflow_x": null,
            "overflow_y": null,
            "padding": null,
            "right": null,
            "top": null,
            "visibility": null,
            "width": null
          }
        },
        "2687d4215c884c4ba9d3bbeb237605af": {
          "model_module": "@jupyter-widgets/controls",
          "model_name": "ProgressStyleModel",
          "model_module_version": "1.5.0",
          "state": {
            "_model_module": "@jupyter-widgets/controls",
            "_model_module_version": "1.5.0",
            "_model_name": "ProgressStyleModel",
            "_view_count": null,
            "_view_module": "@jupyter-widgets/base",
            "_view_module_version": "1.2.0",
            "_view_name": "StyleView",
            "bar_color": null,
            "description_width": ""
          }
        },
        "3c1b30703da444d5a48d78b1d06f1dba": {
          "model_module": "@jupyter-widgets/base",
          "model_name": "LayoutModel",
          "model_module_version": "1.2.0",
          "state": {
            "_model_module": "@jupyter-widgets/base",
            "_model_module_version": "1.2.0",
            "_model_name": "LayoutModel",
            "_view_count": null,
            "_view_module": "@jupyter-widgets/base",
            "_view_module_version": "1.2.0",
            "_view_name": "LayoutView",
            "align_content": null,
            "align_items": null,
            "align_self": null,
            "border": null,
            "bottom": null,
            "display": null,
            "flex": null,
            "flex_flow": null,
            "grid_area": null,
            "grid_auto_columns": null,
            "grid_auto_flow": null,
            "grid_auto_rows": null,
            "grid_column": null,
            "grid_gap": null,
            "grid_row": null,
            "grid_template_areas": null,
            "grid_template_columns": null,
            "grid_template_rows": null,
            "height": null,
            "justify_content": null,
            "justify_items": null,
            "left": null,
            "margin": null,
            "max_height": null,
            "max_width": null,
            "min_height": null,
            "min_width": null,
            "object_fit": null,
            "object_position": null,
            "order": null,
            "overflow": null,
            "overflow_x": null,
            "overflow_y": null,
            "padding": null,
            "right": null,
            "top": null,
            "visibility": null,
            "width": null
          }
        },
        "cd0e42bd908840fda7348119180b874a": {
          "model_module": "@jupyter-widgets/controls",
          "model_name": "DescriptionStyleModel",
          "model_module_version": "1.5.0",
          "state": {
            "_model_module": "@jupyter-widgets/controls",
            "_model_module_version": "1.5.0",
            "_model_name": "DescriptionStyleModel",
            "_view_count": null,
            "_view_module": "@jupyter-widgets/base",
            "_view_module_version": "1.2.0",
            "_view_name": "StyleView",
            "description_width": ""
          }
        }
      }
    }
  },
  "cells": [
    {
      "cell_type": "code",
      "source": [
        "!git clone https://github.com/mohamedamine99/Object-tracking-and-counting-using-YOLOV8"
      ],
      "metadata": {
        "colab": {
          "base_uri": "https://localhost:8080/"
        },
        "id": "Q_FEoVtf-igA",
        "outputId": "f2b1888f-5ee2-4667-c6dc-e22371bc2b83"
      },
      "execution_count": 1,
      "outputs": [
        {
          "output_type": "stream",
          "name": "stdout",
          "text": [
            "Cloning into 'Object-tracking-and-counting-using-YOLOV8'...\n",
            "remote: Enumerating objects: 56, done.\u001b[K\n",
            "remote: Counting objects: 100% (56/56), done.\u001b[K\n",
            "remote: Compressing objects: 100% (48/48), done.\u001b[K\n",
            "remote: Total 56 (delta 9), reused 51 (delta 6), pack-reused 0\u001b[K\n",
            "Unpacking objects: 100% (56/56), 10.15 MiB | 11.83 MiB/s, done.\n"
          ]
        }
      ]
    },
    {
      "cell_type": "code",
      "source": [
        "import numpy as np\n",
        "import random\n",
        "import os\n",
        "import cv2\n",
        "\n",
        "import imageio\n",
        "import time\n",
        "import matplotlib.pyplot as plt\n",
        "\n"
      ],
      "metadata": {
        "id": "FDIvbG71Jkhn"
      },
      "execution_count": 2,
      "outputs": []
    },
    {
      "cell_type": "code",
      "execution_count": 3,
      "metadata": {
        "colab": {
          "base_uri": "https://localhost:8080/"
        },
        "id": "hLCrvX5uxtAt",
        "outputId": "55d3408d-799b-4ce4-9094-f61c6d1da2a0"
      },
      "outputs": [
        {
          "output_type": "stream",
          "name": "stderr",
          "text": [
            "Ultralytics YOLOv8.0.57 🚀 Python-3.9.16 torch-1.13.1+cu116 CPU\n",
            "Setup complete ✅ (2 CPUs, 12.7 GB RAM, 28.1/107.7 GB disk)\n"
          ]
        }
      ],
      "source": [
        "%pip install ultralytics\n",
        "import ultralytics\n",
        "ultralytics.checks()\n",
        "from ultralytics import YOLO\n"
      ]
    },
    {
      "cell_type": "code",
      "source": [
        "img_results_path = '/content/image_object_detection_results'\n",
        "vid_results_path = '/content/video_object_detection_results'\n",
        "test_imgs_path = '/content/Object-tracking-and-counting-using-YOLOV8/test imgs'\n",
        "test_vids_path = '/content/Object-tracking-and-counting-using-YOLOV8/test vids'\n",
        "\n",
        "if not os.path.isdir(img_results_path):\n",
        "    os.makedirs(img_results_path)\n",
        "\n",
        "if not os.path.isdir(vid_results_path):\n",
        "    os.makedirs(vid_results_path)"
      ],
      "metadata": {
        "id": "Y-xXMgUjiX_0"
      },
      "execution_count": 4,
      "outputs": []
    },
    {
      "cell_type": "code",
      "source": [
        "yolo_names = ['yolov8n.pt', 'yolov8m.pt', 'yolov8x.pt']\n",
        "\n",
        "# load yolo models and store them in a dict:\n",
        "yolov8_models = {}\n",
        "for yolo_name in yolo_names:\n",
        "    yolov8_models[yolo_name[:-3]] = YOLO(yolo_name)\n"
      ],
      "metadata": {
        "colab": {
          "base_uri": "https://localhost:8080/",
          "height": 165,
          "referenced_widgets": [
            "4e9e361df1aa4368b3b0d4d41410d17a",
            "5f928e1127354cac9acdf20621fb1134",
            "43c2b9477ce544ddb876987d40ac4624",
            "e0841114f0484fcd96e0f122f8a04ed8",
            "d6769cfa56144bcb9b279d3b8a5e0073",
            "2614e5de0db04385980b81bfa60653e8",
            "cb8976a404da4fa29f5dd18a99c75b67",
            "60703fdd9ed94443b5f6b6c6f1fadfc5",
            "10d39c5290b347c09438815d7d84dda2",
            "01f46de254544da49a4df18ea12b09ff",
            "4eed378f7d1d4a90989586fcd156e2aa",
            "1b82afee765b4d8f8f5cce6ec41be29b",
            "b8554c769f3846f39ae85ac1f5af69fe",
            "dcb428b59a2f48bf9732e418d581e29c",
            "c3f1f66f2bc54ac2813f96e26f0f7252",
            "782ce2398d9342b2b3dde3633d6d3b9d",
            "f87ee0160216431dbd6f42b3c3efb5cb",
            "831dfcca869545e0a1d644a41ec65b65",
            "9b4ff5caccf640a581796d91b019b11a",
            "3279d836196a4642a62321ead385ae6b",
            "4add89522dc841ba99932b46e5100b5c",
            "b3cdb50dc33240d9b4acc117c7114a04",
            "f703ea1e80e14cf6857fc545293eb160",
            "f6853d7a551041e3af3165b8bed5308a",
            "aee5847b05704f09b2990b322a2966c1",
            "37bea9b68a0a4e3bb05acf146276a570",
            "b8b68376b92a48e38b211aa61ab1558d",
            "847a1e272b36497fafcd2cbf499f4a4b",
            "2883351b443f4064a028073527e5338e",
            "057900b56aaf48c38f2e698908d301a1",
            "3052b76131c74944892313eb9ea3e27c",
            "024721d3fcab43c18b14b188010bd4c3",
            "7b07903f80354233babec6f33b28fbae"
          ]
        },
        "id": "fZ8xOlMHbWx9",
        "outputId": "e9a9053d-88fc-4e0a-b853-7327c28b6cdf"
      },
      "execution_count": 5,
      "outputs": [
        {
          "output_type": "stream",
          "name": "stderr",
          "text": [
            "Downloading https://github.com/ultralytics/assets/releases/download/v0.0.0/yolov8n.pt to yolov8n.pt...\n"
          ]
        },
        {
          "output_type": "display_data",
          "data": {
            "text/plain": [
              "  0%|          | 0.00/6.23M [00:00<?, ?B/s]"
            ],
            "application/vnd.jupyter.widget-view+json": {
              "version_major": 2,
              "version_minor": 0,
              "model_id": "4e9e361df1aa4368b3b0d4d41410d17a"
            }
          },
          "metadata": {}
        },
        {
          "output_type": "stream",
          "name": "stderr",
          "text": [
            "Downloading https://github.com/ultralytics/assets/releases/download/v0.0.0/yolov8m.pt to yolov8m.pt...\n"
          ]
        },
        {
          "output_type": "display_data",
          "data": {
            "text/plain": [
              "  0%|          | 0.00/49.7M [00:00<?, ?B/s]"
            ],
            "application/vnd.jupyter.widget-view+json": {
              "version_major": 2,
              "version_minor": 0,
              "model_id": "1b82afee765b4d8f8f5cce6ec41be29b"
            }
          },
          "metadata": {}
        },
        {
          "output_type": "stream",
          "name": "stderr",
          "text": [
            "Downloading https://github.com/ultralytics/assets/releases/download/v0.0.0/yolov8x.pt to yolov8x.pt...\n"
          ]
        },
        {
          "output_type": "display_data",
          "data": {
            "text/plain": [
              "  0%|          | 0.00/131M [00:00<?, ?B/s]"
            ],
            "application/vnd.jupyter.widget-view+json": {
              "version_major": 2,
              "version_minor": 0,
              "model_id": "f703ea1e80e14cf6857fc545293eb160"
            }
          },
          "metadata": {}
        }
      ]
    },
    {
      "cell_type": "code",
      "source": [
        "for yolo_name , yolo_model in yolov8_models.items():\n",
        "    results = yolo_model('https://ultralytics.com/images/bus.jpg', verbose = True)\n",
        "    results = results [0]\n",
        "    a = results.plot()\n",
        "    cv2.imwrite(yolo_name + '.jpg', a)"
      ],
      "metadata": {
        "colab": {
          "base_uri": "https://localhost:8080/",
          "height": 257,
          "referenced_widgets": [
            "4539740cba4a4f0391cf73855f052d85",
            "7c7ac3cfbe374b23886b014829a95084",
            "1fd2f3d5bf7549559e3296dad154548d",
            "cb6228a6ec514a78ba69e864c0c58bd4",
            "910a4d24fc9f4015a151671d711f040d",
            "17f767a4aa8b467f8406f08ae7f3f8d7",
            "f24a9634b40d45339c568317ff813fdd",
            "712839b70e444088bdbf76aa74f80b2b",
            "2687d4215c884c4ba9d3bbeb237605af",
            "3c1b30703da444d5a48d78b1d06f1dba",
            "cd0e42bd908840fda7348119180b874a"
          ]
        },
        "id": "K--75wbEeln_",
        "outputId": "b89ef4f3-eb7a-44e2-dc3a-a53b275360ff"
      },
      "execution_count": 6,
      "outputs": [
        {
          "output_type": "stream",
          "name": "stderr",
          "text": [
            "\n",
            "Downloading https://ultralytics.com/images/bus.jpg to bus.jpg...\n"
          ]
        },
        {
          "output_type": "display_data",
          "data": {
            "text/plain": [
              "  0%|          | 0.00/476k [00:00<?, ?B/s]"
            ],
            "application/vnd.jupyter.widget-view+json": {
              "version_major": 2,
              "version_minor": 0,
              "model_id": "4539740cba4a4f0391cf73855f052d85"
            }
          },
          "metadata": {}
        },
        {
          "output_type": "stream",
          "name": "stderr",
          "text": [
            "image 1/1 /content/bus.jpg: 640x480 4 persons, 1 bus, 1 stop sign, 345.1ms\n",
            "Speed: 2.0ms preprocess, 345.1ms inference, 19.4ms postprocess per image at shape (1, 3, 640, 640)\n",
            "\n",
            "Found https://ultralytics.com/images/bus.jpg locally at bus.jpg\n",
            "image 1/1 /content/bus.jpg: 640x480 4 persons, 1 bus, 1184.2ms\n",
            "Speed: 0.5ms preprocess, 1184.2ms inference, 0.9ms postprocess per image at shape (1, 3, 640, 640)\n",
            "\n",
            "Found https://ultralytics.com/images/bus.jpg locally at bus.jpg\n",
            "image 1/1 /content/bus.jpg: 640x480 5 persons, 1 bicycle, 1 bus, 3501.5ms\n",
            "Speed: 0.5ms preprocess, 3501.5ms inference, 1.2ms postprocess per image at shape (1, 3, 640, 640)\n"
          ]
        }
      ]
    },
    {
      "cell_type": "code",
      "source": [
        "for yolo_name , yolo_model in yolov8_models.items():\n",
        "    print(f\"Model : {yolo_name}\")\n",
        "    for img_name in os.listdir(test_imgs_path):\n",
        "        print(f\"Target image : {img_name}\")\n",
        "        print(img_name.split('.')[0])\n",
        "        print(\"-------------------------\")\n",
        "        img = cv2.imread(os.path.join(test_imgs_path, img_name))\n",
        "        results = yolo_model(img, verbose = True)\n",
        "        results = results [0]\n",
        "        result_img = results.plot()\n",
        "\n",
        "        save_dir = os.path.join(img_results_path, yolo_name)\n",
        "        if not os.path.isdir(save_dir):\n",
        "            os.makedirs(save_dir)\n",
        "\n",
        "        save_name = yolo_name + ' -- ' + img_name.split('.')[0] + '.jpg'\n",
        "        save_file = os.path.join(img_results_path, save_dir, save_name) \n",
        "        print(f\"Saving results to : {save_file}\")\n",
        "        cv2.imwrite(save_file, result_img)"
      ],
      "metadata": {
        "colab": {
          "base_uri": "https://localhost:8080/"
        },
        "id": "Hn6Zjv37oVnP",
        "outputId": "3a47f33c-2878-4d16-de28-1f707526bfc5"
      },
      "execution_count": 7,
      "outputs": [
        {
          "output_type": "stream",
          "name": "stderr",
          "text": [
            "\n",
            "0: 640x480 4 persons, 1 bus, 1 stop sign, 158.7ms\n",
            "Speed: 1.5ms preprocess, 158.7ms inference, 0.7ms postprocess per image at shape (1, 3, 640, 640)\n"
          ]
        },
        {
          "output_type": "stream",
          "name": "stdout",
          "text": [
            "Model : yolov8n\n",
            "Target image : bus.jpg\n",
            "bus\n",
            "-------------------------\n",
            "Saving results to : /content/image_object_detection_results/yolov8n/yolov8n -- bus.jpg\n"
          ]
        },
        {
          "output_type": "stream",
          "name": "stderr",
          "text": [
            "\n",
            "0: 416x640 12 cars, 3 trucks, 156.4ms\n",
            "Speed: 0.4ms preprocess, 156.4ms inference, 0.7ms postprocess per image at shape (1, 3, 640, 640)\n"
          ]
        },
        {
          "output_type": "stream",
          "name": "stdout",
          "text": [
            "Target image : highway.PNG\n",
            "highway\n",
            "-------------------------\n",
            "Saving results to : /content/image_object_detection_results/yolov8n/yolov8n -- highway.jpg\n",
            "Target image : people crossing the street.jpg\n",
            "people crossing the street\n",
            "-------------------------\n"
          ]
        },
        {
          "output_type": "stream",
          "name": "stderr",
          "text": [
            "\n",
            "0: 640x640 5 persons, 10 cars, 211.5ms\n",
            "Speed: 0.6ms preprocess, 211.5ms inference, 0.9ms postprocess per image at shape (1, 3, 640, 640)\n",
            "\n",
            "0: 384x640 1 cat, 132.3ms\n",
            "Speed: 0.5ms preprocess, 132.3ms inference, 0.7ms postprocess per image at shape (1, 3, 640, 640)\n",
            "\n"
          ]
        },
        {
          "output_type": "stream",
          "name": "stdout",
          "text": [
            "Saving results to : /content/image_object_detection_results/yolov8n/yolov8n -- people crossing the street.jpg\n",
            "Target image : 2 cats.PNG\n",
            "2 cats\n",
            "-------------------------\n",
            "Saving results to : /content/image_object_detection_results/yolov8n/yolov8n -- 2 cats.jpg\n",
            "Target image : 2 dogs.PNG\n",
            "2 dogs\n",
            "-------------------------\n"
          ]
        },
        {
          "output_type": "stream",
          "name": "stderr",
          "text": [
            "0: 448x640 2 dogs, 151.4ms\n",
            "Speed: 0.5ms preprocess, 151.4ms inference, 0.7ms postprocess per image at shape (1, 3, 640, 640)\n",
            "\n",
            "0: 352x640 11 persons, 5 bicycles, 5 cars, 1 bus, 3 traffic lights, 120.6ms\n",
            "Speed: 1.3ms preprocess, 120.6ms inference, 0.7ms postprocess per image at shape (1, 3, 640, 640)\n",
            "\n"
          ]
        },
        {
          "output_type": "stream",
          "name": "stdout",
          "text": [
            "Saving results to : /content/image_object_detection_results/yolov8n/yolov8n -- 2 dogs.jpg\n",
            "Target image : street 2.PNG\n",
            "street 2\n",
            "-------------------------\n",
            "Saving results to : /content/image_object_detection_results/yolov8n/yolov8n -- street 2.jpg\n",
            "Model : yolov8m\n",
            "Target image : bus.jpg\n",
            "bus\n",
            "-------------------------\n"
          ]
        },
        {
          "output_type": "stream",
          "name": "stderr",
          "text": [
            "0: 640x480 4 persons, 1 bus, 1123.5ms\n",
            "Speed: 0.6ms preprocess, 1123.5ms inference, 0.8ms postprocess per image at shape (1, 3, 640, 640)\n",
            "\n"
          ]
        },
        {
          "output_type": "stream",
          "name": "stdout",
          "text": [
            "Saving results to : /content/image_object_detection_results/yolov8m/yolov8m -- bus.jpg\n",
            "Target image : highway.PNG\n",
            "highway\n",
            "-------------------------\n"
          ]
        },
        {
          "output_type": "stream",
          "name": "stderr",
          "text": [
            "0: 416x640 14 cars, 5 trucks, 994.4ms\n",
            "Speed: 1.5ms preprocess, 994.4ms inference, 0.8ms postprocess per image at shape (1, 3, 640, 640)\n",
            "\n"
          ]
        },
        {
          "output_type": "stream",
          "name": "stdout",
          "text": [
            "Saving results to : /content/image_object_detection_results/yolov8m/yolov8m -- highway.jpg\n",
            "Target image : people crossing the street.jpg\n",
            "people crossing the street\n",
            "-------------------------\n"
          ]
        },
        {
          "output_type": "stream",
          "name": "stderr",
          "text": [
            "0: 640x640 7 persons, 11 cars, 1976.8ms\n",
            "Speed: 0.8ms preprocess, 1976.8ms inference, 1.0ms postprocess per image at shape (1, 3, 640, 640)\n",
            "\n"
          ]
        },
        {
          "output_type": "stream",
          "name": "stdout",
          "text": [
            "Saving results to : /content/image_object_detection_results/yolov8m/yolov8m -- people crossing the street.jpg\n",
            "Target image : 2 cats.PNG\n",
            "2 cats\n",
            "-------------------------\n"
          ]
        },
        {
          "output_type": "stream",
          "name": "stderr",
          "text": [
            "0: 384x640 2 cats, 1276.4ms\n",
            "Speed: 0.5ms preprocess, 1276.4ms inference, 0.7ms postprocess per image at shape (1, 3, 640, 640)\n",
            "\n"
          ]
        },
        {
          "output_type": "stream",
          "name": "stdout",
          "text": [
            "Saving results to : /content/image_object_detection_results/yolov8m/yolov8m -- 2 cats.jpg\n",
            "Target image : 2 dogs.PNG\n",
            "2 dogs\n",
            "-------------------------\n"
          ]
        },
        {
          "output_type": "stream",
          "name": "stderr",
          "text": [
            "0: 448x640 2 dogs, 1060.9ms\n",
            "Speed: 0.5ms preprocess, 1060.9ms inference, 0.7ms postprocess per image at shape (1, 3, 640, 640)\n",
            "\n"
          ]
        },
        {
          "output_type": "stream",
          "name": "stdout",
          "text": [
            "Saving results to : /content/image_object_detection_results/yolov8m/yolov8m -- 2 dogs.jpg\n",
            "Target image : street 2.PNG\n",
            "street 2\n",
            "-------------------------\n"
          ]
        },
        {
          "output_type": "stream",
          "name": "stderr",
          "text": [
            "0: 352x640 10 persons, 4 bicycles, 5 cars, 1 bus, 3 traffic lights, 1 handbag, 846.0ms\n",
            "Speed: 0.4ms preprocess, 846.0ms inference, 0.7ms postprocess per image at shape (1, 3, 640, 640)\n",
            "\n"
          ]
        },
        {
          "output_type": "stream",
          "name": "stdout",
          "text": [
            "Saving results to : /content/image_object_detection_results/yolov8m/yolov8m -- street 2.jpg\n",
            "Model : yolov8x\n",
            "Target image : bus.jpg\n",
            "bus\n",
            "-------------------------\n"
          ]
        },
        {
          "output_type": "stream",
          "name": "stderr",
          "text": [
            "0: 640x480 5 persons, 1 bicycle, 1 bus, 3374.0ms\n",
            "Speed: 0.5ms preprocess, 3374.0ms inference, 0.9ms postprocess per image at shape (1, 3, 640, 640)\n",
            "\n"
          ]
        },
        {
          "output_type": "stream",
          "name": "stdout",
          "text": [
            "Saving results to : /content/image_object_detection_results/yolov8x/yolov8x -- bus.jpg\n",
            "Target image : highway.PNG\n",
            "highway\n",
            "-------------------------\n"
          ]
        },
        {
          "output_type": "stream",
          "name": "stderr",
          "text": [
            "0: 416x640 15 cars, 7 trucks, 2880.0ms\n",
            "Speed: 0.4ms preprocess, 2880.0ms inference, 0.8ms postprocess per image at shape (1, 3, 640, 640)\n",
            "\n"
          ]
        },
        {
          "output_type": "stream",
          "name": "stdout",
          "text": [
            "Saving results to : /content/image_object_detection_results/yolov8x/yolov8x -- highway.jpg\n",
            "Target image : people crossing the street.jpg\n",
            "people crossing the street\n",
            "-------------------------\n"
          ]
        },
        {
          "output_type": "stream",
          "name": "stderr",
          "text": [
            "0: 640x640 9 persons, 14 cars, 1 tie, 5373.0ms\n",
            "Speed: 1.2ms preprocess, 5373.0ms inference, 0.9ms postprocess per image at shape (1, 3, 640, 640)\n",
            "\n"
          ]
        },
        {
          "output_type": "stream",
          "name": "stdout",
          "text": [
            "Saving results to : /content/image_object_detection_results/yolov8x/yolov8x -- people crossing the street.jpg\n",
            "Target image : 2 cats.PNG\n",
            "2 cats\n",
            "-------------------------\n"
          ]
        },
        {
          "output_type": "stream",
          "name": "stderr",
          "text": [
            "0: 384x640 2 cats, 2662.6ms\n",
            "Speed: 0.5ms preprocess, 2662.6ms inference, 0.8ms postprocess per image at shape (1, 3, 640, 640)\n",
            "\n"
          ]
        },
        {
          "output_type": "stream",
          "name": "stdout",
          "text": [
            "Saving results to : /content/image_object_detection_results/yolov8x/yolov8x -- 2 cats.jpg\n",
            "Target image : 2 dogs.PNG\n",
            "2 dogs\n",
            "-------------------------\n"
          ]
        },
        {
          "output_type": "stream",
          "name": "stderr",
          "text": [
            "0: 448x640 2 dogs, 3108.4ms\n",
            "Speed: 1.5ms preprocess, 3108.4ms inference, 0.7ms postprocess per image at shape (1, 3, 640, 640)\n",
            "\n"
          ]
        },
        {
          "output_type": "stream",
          "name": "stdout",
          "text": [
            "Saving results to : /content/image_object_detection_results/yolov8x/yolov8x -- 2 dogs.jpg\n",
            "Target image : street 2.PNG\n",
            "street 2\n",
            "-------------------------\n"
          ]
        },
        {
          "output_type": "stream",
          "name": "stderr",
          "text": [
            "0: 352x640 11 persons, 5 bicycles, 6 cars, 1 motorcycle, 1 bus, 3 traffic lights, 1 handbag, 2634.4ms\n",
            "Speed: 0.4ms preprocess, 2634.4ms inference, 1.5ms postprocess per image at shape (1, 3, 640, 640)\n"
          ]
        },
        {
          "output_type": "stream",
          "name": "stdout",
          "text": [
            "Saving results to : /content/image_object_detection_results/yolov8x/yolov8x -- street 2.jpg\n"
          ]
        }
      ]
    },
    {
      "cell_type": "code",
      "source": [
        "for yolo_name , yolo_model in yolov8_models.items():\n",
        "    print(\"----------------------------\")\n",
        "    print(f\"Model : {yolo_name}\")\n",
        "    for vid_name in os.listdir(test_vids_path):\n",
        "        video_path = os.path.join(test_vids_path, vid_name)\n",
        "      \n",
        "       # Open input video file\n",
        "        cap = cv2.VideoCapture(video_path)\n",
        "        print(\"----------------------------\")\n",
        "\n",
        "        # Get video name \n",
        "        print(f\"Detecting object in {vid_name} : \")\n",
        "\n",
        "        # Get frame dimensions and print information about input video file\n",
        "        width  = int(cap.get(3) )  # get `width` \n",
        "        height = int(cap.get(4) )  # get `height` \n",
        "        print(f\"resolution : {width}x{height}\")\n",
        "        #print(video_path)\n",
        "\n",
        "        save_dir = os.path.join(vid_results_path, yolo_name)\n",
        "        if not os.path.isdir(save_dir):\n",
        "            os.makedirs(save_dir)\n",
        "\n",
        "        save_name = yolo_name + ' -- ' + vid_name.split('.')[0] + '.avi'\n",
        "        save_file = os.path.join(vid_results_path, save_dir, save_name)\n",
        "        print('SAVING TO :' + save_file)\n",
        "\n",
        "        # define an output VideoWriter  object\n",
        "        out = cv2.VideoWriter(save_file,\n",
        "                            cv2.VideoWriter_fourcc(*\"MJPG\"),\n",
        "                            30,(width,height))\n",
        "\n",
        "        # Check if the video is opened correctly\n",
        "        if not cap.isOpened():\n",
        "            print(\"Error opening video stream or file\")\n",
        "\n",
        "        # Read the video frames\n",
        "        while cap.isOpened():\n",
        "            ret, frame = cap.read()\n",
        "\n",
        "            # If the frame was not read successfully, break the loop\n",
        "            if not ret:\n",
        "                print(\"Error reading frame\")\n",
        "                break\n",
        "\n",
        "            # Run object detection on the frame and calculate FPS\n",
        "            beg = time.time()\n",
        "            results = yolo_model(frame, verbose = False)\n",
        "            fps = 1 / (time.time() - beg)\n",
        "            results = results [0]\n",
        "            frame = results.plot()\n",
        "            # Display FPS on frame\n",
        "            frame = cv2.putText(frame,f\"FPS : {fps:,.2f}\" , \n",
        "                                (5,15), cv2.FONT_HERSHEY_COMPLEX, \n",
        "                            0.5,  (0,0,255), 1, cv2.LINE_AA)\n",
        "            \n",
        "\n",
        "            # append frame to the video file\n",
        "            out.write(frame)\n",
        "            \n",
        "            # the 'q' button is set as the\n",
        "            # quitting button you may use any\n",
        "            # desired button of your choice\n",
        "\n",
        "            if cv2.waitKey(1) & 0xFF == ord('q'):\n",
        "                break\n",
        "\n",
        "        # After the loop release the cap \n",
        "        cap.release()\n",
        "        out.release()"
      ],
      "metadata": {
        "colab": {
          "base_uri": "https://localhost:8080/"
        },
        "id": "LtkkF8UD0gWn",
        "outputId": "94a38164-5411-47e7-e9a4-6c9b71d4f182"
      },
      "execution_count": 8,
      "outputs": [
        {
          "output_type": "stream",
          "name": "stdout",
          "text": [
            "Model : yolov8n\n",
            "\n",
            "----------------------------\n",
            "Detecting object in 1935 street scene.mp4 : \n",
            "resolution : 1280x720\n",
            "SAVING TO :/content/video_object_detection_results/yolov8n/yolov8n -- 1935 street scene.avi\n",
            "Error reading frame\n",
            "\n",
            "----------------------------\n",
            "Detecting object in traffic 2.mp4 : \n",
            "resolution : 1280x720\n",
            "SAVING TO :/content/video_object_detection_results/yolov8n/yolov8n -- traffic 2.avi\n",
            "Error reading frame\n",
            "\n",
            "----------------------------\n",
            "Detecting object in traffic.mp4 : \n",
            "resolution : 640x360\n",
            "SAVING TO :/content/video_object_detection_results/yolov8n/yolov8n -- traffic.avi\n",
            "Error reading frame\n",
            "Model : yolov8m\n",
            "\n",
            "----------------------------\n",
            "Detecting object in 1935 street scene.mp4 : \n",
            "resolution : 1280x720\n",
            "SAVING TO :/content/video_object_detection_results/yolov8m/yolov8m -- 1935 street scene.avi\n",
            "Error reading frame\n",
            "\n",
            "----------------------------\n",
            "Detecting object in traffic 2.mp4 : \n",
            "resolution : 1280x720\n",
            "SAVING TO :/content/video_object_detection_results/yolov8m/yolov8m -- traffic 2.avi\n",
            "Error reading frame\n",
            "\n",
            "----------------------------\n",
            "Detecting object in traffic.mp4 : \n",
            "resolution : 640x360\n",
            "SAVING TO :/content/video_object_detection_results/yolov8m/yolov8m -- traffic.avi\n",
            "Error reading frame\n",
            "Model : yolov8x\n",
            "\n",
            "----------------------------\n",
            "Detecting object in 1935 street scene.mp4 : \n",
            "resolution : 1280x720\n",
            "SAVING TO :/content/video_object_detection_results/yolov8x/yolov8x -- 1935 street scene.avi\n",
            "Error reading frame\n",
            "\n",
            "----------------------------\n",
            "Detecting object in traffic 2.mp4 : \n",
            "resolution : 1280x720\n",
            "SAVING TO :/content/video_object_detection_results/yolov8x/yolov8x -- traffic 2.avi\n",
            "Error reading frame\n",
            "\n",
            "----------------------------\n",
            "Detecting object in traffic.mp4 : \n",
            "resolution : 640x360\n",
            "SAVING TO :/content/video_object_detection_results/yolov8x/yolov8x -- traffic.avi\n",
            "Error reading frame\n"
          ]
        }
      ]
    },
    {
      "cell_type": "code",
      "source": [
        "!zip -r img_results.zip /content/image_object_detection_results"
      ],
      "metadata": {
        "colab": {
          "base_uri": "https://localhost:8080/"
        },
        "id": "NssC0XolnGk_",
        "outputId": "549e5fd6-1ec6-4118-d694-54985c0e60ee"
      },
      "execution_count": 9,
      "outputs": [
        {
          "output_type": "stream",
          "name": "stdout",
          "text": [
            "  adding: content/image_object_detection_results/ (stored 0%)\n",
            "  adding: content/image_object_detection_results/yolov8x/ (stored 0%)\n",
            "  adding: content/image_object_detection_results/yolov8x/yolov8x -- 2 cats.jpg (deflated 1%)\n",
            "  adding: content/image_object_detection_results/yolov8x/yolov8x -- bus.jpg (deflated 0%)\n",
            "  adding: content/image_object_detection_results/yolov8x/yolov8x -- 2 dogs.jpg (deflated 1%)\n",
            "  adding: content/image_object_detection_results/yolov8x/yolov8x -- people crossing the street.jpg (deflated 0%)\n",
            "  adding: content/image_object_detection_results/yolov8x/yolov8x -- street 2.jpg (deflated 0%)\n",
            "  adding: content/image_object_detection_results/yolov8x/yolov8x -- highway.jpg (deflated 0%)\n",
            "  adding: content/image_object_detection_results/yolov8n/ (stored 0%)\n",
            "  adding: content/image_object_detection_results/yolov8n/yolov8n -- highway.jpg (deflated 0%)\n",
            "  adding: content/image_object_detection_results/yolov8n/yolov8n -- people crossing the street.jpg (deflated 0%)\n",
            "  adding: content/image_object_detection_results/yolov8n/yolov8n -- 2 cats.jpg (deflated 2%)\n",
            "  adding: content/image_object_detection_results/yolov8n/yolov8n -- street 2.jpg (deflated 0%)\n",
            "  adding: content/image_object_detection_results/yolov8n/yolov8n -- 2 dogs.jpg (deflated 1%)\n",
            "  adding: content/image_object_detection_results/yolov8n/yolov8n -- bus.jpg (deflated 0%)\n",
            "  adding: content/image_object_detection_results/yolov8m/ (stored 0%)\n",
            "  adding: content/image_object_detection_results/yolov8m/yolov8m -- bus.jpg (deflated 0%)\n",
            "  adding: content/image_object_detection_results/yolov8m/yolov8m -- street 2.jpg (deflated 0%)\n",
            "  adding: content/image_object_detection_results/yolov8m/yolov8m -- 2 dogs.jpg (deflated 1%)\n",
            "  adding: content/image_object_detection_results/yolov8m/yolov8m -- highway.jpg (deflated 0%)\n",
            "  adding: content/image_object_detection_results/yolov8m/yolov8m -- 2 cats.jpg (deflated 1%)\n",
            "  adding: content/image_object_detection_results/yolov8m/yolov8m -- people crossing the street.jpg (deflated 0%)\n"
          ]
        }
      ]
    },
    {
      "cell_type": "code",
      "source": [
        "!zip -r vid_results.zip /content/video_object_detection_results"
      ],
      "metadata": {
        "colab": {
          "base_uri": "https://localhost:8080/"
        },
        "id": "E3GYF0xsxd4h",
        "outputId": "e8a5775e-40b9-4883-9b6f-f65c56cc6857"
      },
      "execution_count": 10,
      "outputs": [
        {
          "output_type": "stream",
          "name": "stdout",
          "text": [
            "  adding: content/video_object_detection_results/ (stored 0%)\n",
            "  adding: content/video_object_detection_results/yolov8x/ (stored 0%)\n",
            "  adding: content/video_object_detection_results/yolov8x/yolov8x -- traffic 2.avi (deflated 0%)\n",
            "  adding: content/video_object_detection_results/yolov8x/yolov8x -- 1935 street scene.avi (deflated 2%)\n",
            "  adding: content/video_object_detection_results/yolov8x/yolov8x -- traffic.avi (deflated 0%)\n",
            "  adding: content/video_object_detection_results/yolov8n/ (stored 0%)\n",
            "  adding: content/video_object_detection_results/yolov8n/yolov8n -- 1935 street scene.avi (deflated 2%)\n",
            "  adding: content/video_object_detection_results/yolov8n/yolov8n -- traffic.avi (deflated 0%)\n",
            "  adding: content/video_object_detection_results/yolov8n/yolov8n -- traffic 2.avi (deflated 0%)\n",
            "  adding: content/video_object_detection_results/yolov8m/ (stored 0%)\n",
            "  adding: content/video_object_detection_results/yolov8m/yolov8m -- traffic 2.avi (deflated 0%)\n",
            "  adding: content/video_object_detection_results/yolov8m/yolov8m -- traffic.avi (deflated 0%)\n",
            "  adding: content/video_object_detection_results/yolov8m/yolov8m -- 1935 street scene.avi (deflated 2%)\n"
          ]
        }
      ]
    }
  ]
}