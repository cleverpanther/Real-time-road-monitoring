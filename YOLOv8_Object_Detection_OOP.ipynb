{
  "nbformat": 4,
  "nbformat_minor": 0,
  "metadata": {
    "colab": {
      "provenance": []
    },
    "kernelspec": {
      "name": "python3",
      "display_name": "Python 3"
    },
    "language_info": {
      "name": "python"
    }
  },
  "cells": [
    {
      "cell_type": "code",
      "source": [
        "!git clone https://github.com/mohamedamine99/Object-tracking-and-counting-using-YOLOV8"
      ],
      "metadata": {
        "colab": {
          "base_uri": "https://localhost:8080/"
        },
        "id": "Q_FEoVtf-igA",
        "outputId": "41b94498-1058-409a-c0f6-cf5bf831568a"
      },
      "execution_count": 23,
      "outputs": [
        {
          "output_type": "stream",
          "name": "stdout",
          "text": [
            "fatal: destination path 'Object-tracking-and-counting-using-YOLOV8' already exists and is not an empty directory.\n"
          ]
        }
      ]
    },
    {
      "cell_type": "code",
      "source": [
        "import numpy as np\n",
        "import random\n",
        "import os\n",
        "import cv2\n",
        "\n",
        "import imageio\n",
        "import time\n",
        "import matplotlib.pyplot as plt\n",
        "\n"
      ],
      "metadata": {
        "id": "FDIvbG71Jkhn"
      },
      "execution_count": 24,
      "outputs": []
    },
    {
      "cell_type": "code",
      "execution_count": 25,
      "metadata": {
        "colab": {
          "base_uri": "https://localhost:8080/"
        },
        "id": "hLCrvX5uxtAt",
        "outputId": "806039ef-8e9e-4c48-f04c-c8de15ab0c35"
      },
      "outputs": [
        {
          "output_type": "stream",
          "name": "stderr",
          "text": [
            "Ultralytics YOLOv8.0.58 🚀 Python-3.9.16 torch-1.13.1+cu116 CPU\n",
            "Setup complete ✅ (2 CPUs, 12.7 GB RAM, 26.4/107.7 GB disk)\n"
          ]
        }
      ],
      "source": [
        "%pip install ultralytics\n",
        "import ultralytics\n",
        "ultralytics.checks()\n",
        "from ultralytics import YOLO\n"
      ]
    },
    {
      "cell_type": "code",
      "source": [
        "class YOLOv8_ObjectDetector:\n",
        "\n",
        "    def __init__(self, model_file = 'yolov8n.pt', labels= None, classes = None, conf = 0.25, iou = 0.45 ):\n",
        "\n",
        "        self.classes = classes\n",
        "        self.conf = conf\n",
        "        self.iou = iou\n",
        "\n",
        "        self.model = YOLO(model_file)\n",
        "        self.model_name = model_file.split('.')[0]\n",
        "\n",
        "        if labels == None:\n",
        "            self.labels = self.model.names\n",
        "\n",
        "\n",
        "    def predict_img(self, img, verbose = True):\n",
        "        \n",
        "        results = self.model(img, classes = self.classes, conf = self.conf, iou = self.iou , verbose = verbose)\n",
        "        self.orig_img = img\n",
        "        self.results = results[0]\n",
        "        return results[0]\n",
        "\n",
        "\n",
        "    def default_display(self,show_conf=True, line_width=None, \n",
        "                        font_size=None, font='Arial.ttf', pil = False, example='abc'):\n",
        "        \n",
        "        return self.results.plot(show_conf , line_width , font_size , font, pil , example )\n",
        "        \n",
        "\n",
        "    def custom_display(self, colors, show_cls = True, show_conf = True):\n",
        "\n",
        "        img = self.orig_img\n",
        "        # calculate the bounding box thickness based on the image width and height\n",
        "        bbx_thickness = (img.shape[0] + img.shape[1]) // 450\n",
        "\n",
        "        for box in self.results.boxes:\n",
        "            textString = \"\"\n",
        "\n",
        "            # Extract object class and confidence score\n",
        "            score = box.conf.item() * 100\n",
        "            class_id = int(box.cls.item())\n",
        "\n",
        "            x1 , y1 , x2, y2 = np.squeeze(box.xyxy.numpy()).astype(int)\n",
        "\n",
        "            # Calculate font scale based on object size\n",
        "            if show_cls:\n",
        "                textString += f\"{self.labels[class_id]}\"\n",
        "\n",
        "            if show_conf:\n",
        "                textString += f\" {score:,.2f}%\"\n",
        "\n",
        "\n",
        "            #textString = f\"{self.labels[class_id]}\"  f\" {score:,.2f}%\"\n",
        "            font = cv2.FONT_HERSHEY_COMPLEX\n",
        "            fontScale = (((x2 - x1) / img.shape[0]) + ((y2 - y1) / img.shape[1])) / 2 * 2.5\n",
        "            fontThickness = 1\n",
        "            textSize, baseline = cv2.getTextSize(textString, font, fontScale, fontThickness)\n",
        "\n",
        "\n",
        "            # Draw bounding box, a centroid and label on the image\n",
        "            img = cv2.rectangle(img, (x1,y1), (x2,y2), colors[class_id], bbx_thickness)\n",
        "            center_coordinates = ((x1 + x2)//2, (y1 + y2) // 2)\n",
        "\n",
        "            img =  cv2.circle(img, center_coordinates, 5 , (0,0,255), -1)\n",
        "            \n",
        "            if textString != \"\":\n",
        "                if (y1 < textSize[1]):\n",
        "                    y1 = y1 + textSize[1]\n",
        "                    \n",
        "                else:\n",
        "                    y1 -= 2\n",
        "            \n",
        "                img = cv2.rectangle(img, (x1, y1), (x1 + textSize[0] , y1 -  textSize[1]), colors[class_id], cv2.FILLED)\n",
        "                img = cv2.putText(img, textString , \n",
        "                    (x1, y1), font, \n",
        "                fontScale,  (0, 0, 0), fontThickness, cv2.LINE_AA)\n",
        "\n",
        "        return img\n",
        "\n",
        "\n",
        "\n",
        "        \n",
        "\n",
        "\n",
        "    def predict_video(self, video_path, save_dir, save_format = \"avi\", display = 'custom', verbose = True, **display_args):\n",
        "        cap = cv2.VideoCapture(video_path)\n",
        "        # Get video name \n",
        "        vid_name = os.path.basename(video_path)\n",
        "\n",
        "\n",
        "        # Get frame dimensions and print information about input video file\n",
        "        width  = int(cap.get(3) )  # get `width` \n",
        "        height = int(cap.get(4) )  # get `height` \n",
        "\n",
        "        if not os.path.isdir(save_dir):\n",
        "            os.makedirs(save_dir)\n",
        "\n",
        "        save_name = self.model_name + ' -- ' + vid_name.split('.')[0] + '.' + save_format\n",
        "        save_file = os.path.join(save_dir, save_name)\n",
        "\n",
        "        if verbose:\n",
        "            print(\"----------------------------\")\n",
        "            print(f\"DETECTING OBJECTS IN : {vid_name} : \")\n",
        "            print(f\"RESOLUTION : {width}x{height}\")\n",
        "            print('SAVING TO :' + save_file)\n",
        "\n",
        "        # define an output VideoWriter  object\n",
        "        out = cv2.VideoWriter(save_file,\n",
        "                            cv2.VideoWriter_fourcc(*\"MJPG\"),\n",
        "                            30,(width,height))\n",
        "\n",
        "        # Check if the video is opened correctly\n",
        "        if not cap.isOpened():\n",
        "            print(\"Error opening video stream or file\")\n",
        "\n",
        "        # Read the video frames\n",
        "        while cap.isOpened():\n",
        "            ret, frame = cap.read()\n",
        "\n",
        "            # If the frame was not read successfully, break the loop\n",
        "            if not ret:\n",
        "                print(\"Error reading frame\")\n",
        "                break\n",
        "\n",
        "            # Run object detection on the frame and calculate FPS\n",
        "            beg = time.time()\n",
        "            results = self.predict_img(frame, verbose = False)\n",
        "            if results == None:\n",
        "                print('***********************************************')\n",
        "            fps = 1 / (time.time() - beg)\n",
        "\n",
        "            # Display detection results\n",
        "            if display == 'default':\n",
        "                frame = self.default_display(**display_args)\n",
        "            \n",
        "            elif display == 'custom':\n",
        "                frame == self.custom_display(colors, **display_args)\n",
        "\n",
        "            # Display FPS on frame\n",
        "            frame = cv2.putText(frame,f\"FPS : {fps:,.2f}\" , \n",
        "                                (5,15), cv2.FONT_HERSHEY_COMPLEX, \n",
        "                            0.5,  (0,0,255), 1, cv2.LINE_AA)\n",
        "            \n",
        "\n",
        "            # append frame to the video file\n",
        "            out.write(frame)\n",
        "            \n",
        "            # the 'q' button is set as the\n",
        "            # quitting button you may use any\n",
        "            # desired button of your choice\n",
        "\n",
        "            if cv2.waitKey(1) & 0xFF == ord('q'):\n",
        "                break\n",
        "\n",
        "        # After the loop release the cap \n",
        "        cap.release()\n",
        "        out.release()\n",
        "\n",
        "    \n"
      ],
      "metadata": {
        "id": "qI-I-BBS81Fa"
      },
      "execution_count": 26,
      "outputs": []
    },
    {
      "cell_type": "code",
      "source": [
        "d = YOLOv8_ObjectDetector()\n",
        "print(d.labels) "
      ],
      "metadata": {
        "colab": {
          "base_uri": "https://localhost:8080/"
        },
        "id": "5AOY6Es0ulzQ",
        "outputId": "b51c8f01-3647-4275-91ab-d2fa35f0149b"
      },
      "execution_count": 27,
      "outputs": [
        {
          "output_type": "stream",
          "name": "stdout",
          "text": [
            "{0: 'person', 1: 'bicycle', 2: 'car', 3: 'motorcycle', 4: 'airplane', 5: 'bus', 6: 'train', 7: 'truck', 8: 'boat', 9: 'traffic light', 10: 'fire hydrant', 11: 'stop sign', 12: 'parking meter', 13: 'bench', 14: 'bird', 15: 'cat', 16: 'dog', 17: 'horse', 18: 'sheep', 19: 'cow', 20: 'elephant', 21: 'bear', 22: 'zebra', 23: 'giraffe', 24: 'backpack', 25: 'umbrella', 26: 'handbag', 27: 'tie', 28: 'suitcase', 29: 'frisbee', 30: 'skis', 31: 'snowboard', 32: 'sports ball', 33: 'kite', 34: 'baseball bat', 35: 'baseball glove', 36: 'skateboard', 37: 'surfboard', 38: 'tennis racket', 39: 'bottle', 40: 'wine glass', 41: 'cup', 42: 'fork', 43: 'knife', 44: 'spoon', 45: 'bowl', 46: 'banana', 47: 'apple', 48: 'sandwich', 49: 'orange', 50: 'broccoli', 51: 'carrot', 52: 'hot dog', 53: 'pizza', 54: 'donut', 55: 'cake', 56: 'chair', 57: 'couch', 58: 'potted plant', 59: 'bed', 60: 'dining table', 61: 'toilet', 62: 'tv', 63: 'laptop', 64: 'mouse', 65: 'remote', 66: 'keyboard', 67: 'cell phone', 68: 'microwave', 69: 'oven', 70: 'toaster', 71: 'sink', 72: 'refrigerator', 73: 'book', 74: 'clock', 75: 'vase', 76: 'scissors', 77: 'teddy bear', 78: 'hair drier', 79: 'toothbrush'}\n"
          ]
        }
      ]
    },
    {
      "cell_type": "code",
      "source": [
        "img_results_path = '/content/image_object_detection_results'\n",
        "vid_results_path = '/content/video_object_detection_results'\n",
        "test_imgs_path = '/content/Object-tracking-and-counting-using-YOLOV8/test imgs'\n",
        "test_vids_path = '/content/Object-tracking-and-counting-using-YOLOV8/test vids'\n",
        "\n",
        "if not os.path.isdir(img_results_path):\n",
        "    os.makedirs(img_results_path)\n",
        "\n",
        "if not os.path.isdir(vid_results_path):\n",
        "    os.makedirs(vid_results_path)"
      ],
      "metadata": {
        "id": "Y-xXMgUjiX_0"
      },
      "execution_count": 28,
      "outputs": []
    },
    {
      "cell_type": "code",
      "source": [
        "yolo_names = ['yolov8n.pt', 'yolov8m.pt']#, 'yolov8m.pt', 'yolov8x.pt']\n",
        "colors = []\n",
        "for _ in range(80):\n",
        "    rand_tuple = (random.randint(50, 255), random.randint(50, 255), random.randint(50, 255))\n",
        "    colors.append(rand_tuple)\n",
        "\n",
        "detectors = []\n",
        "for yolo_name in yolo_names:\n",
        "    detector = YOLOv8_ObjectDetector(yolo_name, conf = 0.55 )\n",
        "    detectors.append(detector)"
      ],
      "metadata": {
        "id": "YhaMvVPHAy1r"
      },
      "execution_count": 29,
      "outputs": []
    },
    {
      "cell_type": "code",
      "source": [
        "for detector in detectors :\n",
        "    print(f\"Model : {detector.model_name}\")\n",
        "    for img_name in os.listdir(test_imgs_path):\n",
        "        print(f\"Target image : {img_name}\")\n",
        "        print(img_name.split('.')[0])\n",
        "        print(\"-------------------------\")\n",
        "        img = cv2.imread(os.path.join(test_imgs_path, img_name))\n",
        "        results = detector.predict_img(img, verbose = False)\n",
        "        result_img = detector.custom_display(colors)\n",
        "\n",
        "        save_dir = os.path.join(img_results_path, detector.model_name)\n",
        "        if not os.path.isdir(save_dir):\n",
        "            os.makedirs(save_dir)\n",
        "\n",
        "        save_name = detector.model_name + ' -- ' + img_name.split('.')[0] + '.jpg'\n",
        "        save_file = os.path.join(img_results_path, save_dir, save_name) \n",
        "        print(f\"Saving results to : {save_file}\")\n",
        "        cv2.imwrite(save_file, result_img)\n"
      ],
      "metadata": {
        "colab": {
          "base_uri": "https://localhost:8080/"
        },
        "id": "Hn6Zjv37oVnP",
        "outputId": "95b90400-b485-405b-ec44-0f0bbda752ba"
      },
      "execution_count": 30,
      "outputs": [
        {
          "output_type": "stream",
          "name": "stdout",
          "text": [
            "Model : yolov8n\n",
            "Target image : 2 cats.PNG\n",
            "2 cats\n",
            "-------------------------\n",
            "Saving results to : /content/image_object_detection_results/yolov8n/yolov8n -- 2 cats.jpg\n",
            "Target image : highway.PNG\n",
            "highway\n",
            "-------------------------\n",
            "Saving results to : /content/image_object_detection_results/yolov8n/yolov8n -- highway.jpg\n",
            "Target image : people crossing the street.jpg\n",
            "people crossing the street\n",
            "-------------------------\n",
            "Saving results to : /content/image_object_detection_results/yolov8n/yolov8n -- people crossing the street.jpg\n",
            "Target image : 2 dogs.PNG\n",
            "2 dogs\n",
            "-------------------------\n",
            "Saving results to : /content/image_object_detection_results/yolov8n/yolov8n -- 2 dogs.jpg\n",
            "Target image : street 2.PNG\n",
            "street 2\n",
            "-------------------------\n",
            "Saving results to : /content/image_object_detection_results/yolov8n/yolov8n -- street 2.jpg\n",
            "Target image : bus.jpg\n",
            "bus\n",
            "-------------------------\n",
            "Saving results to : /content/image_object_detection_results/yolov8n/yolov8n -- bus.jpg\n",
            "Model : yolov8m\n",
            "Target image : 2 cats.PNG\n",
            "2 cats\n",
            "-------------------------\n",
            "Saving results to : /content/image_object_detection_results/yolov8m/yolov8m -- 2 cats.jpg\n",
            "Target image : highway.PNG\n",
            "highway\n",
            "-------------------------\n",
            "Saving results to : /content/image_object_detection_results/yolov8m/yolov8m -- highway.jpg\n",
            "Target image : people crossing the street.jpg\n",
            "people crossing the street\n",
            "-------------------------\n",
            "Saving results to : /content/image_object_detection_results/yolov8m/yolov8m -- people crossing the street.jpg\n",
            "Target image : 2 dogs.PNG\n",
            "2 dogs\n",
            "-------------------------\n",
            "Saving results to : /content/image_object_detection_results/yolov8m/yolov8m -- 2 dogs.jpg\n",
            "Target image : street 2.PNG\n",
            "street 2\n",
            "-------------------------\n",
            "Saving results to : /content/image_object_detection_results/yolov8m/yolov8m -- street 2.jpg\n",
            "Target image : bus.jpg\n",
            "bus\n",
            "-------------------------\n",
            "Saving results to : /content/image_object_detection_results/yolov8m/yolov8m -- bus.jpg\n"
          ]
        }
      ]
    },
    {
      "cell_type": "code",
      "source": [
        "for detector in detectors:\n",
        "    detector.predict_video(video_path= '/content/Object-tracking-and-counting-using-YOLOV8/test vids/traffic 2.mp4'\n",
        ", save_dir = vid_results_path, save_format = \"avi\", display = 'custom')"
      ],
      "metadata": {
        "colab": {
          "base_uri": "https://localhost:8080/"
        },
        "id": "V2pBdBNpBPWm",
        "outputId": "2044fab0-02e6-4f8c-824c-c49bfe805dec"
      },
      "execution_count": 31,
      "outputs": [
        {
          "output_type": "stream",
          "name": "stdout",
          "text": [
            "----------------------------\n",
            "DETECTING OBJECTS IN : traffic 2.mp4 : \n",
            "RESOLUTION : 1280x720\n",
            "SAVING TO :/content/video_object_detection_results/yolov8n -- traffic 2.avi\n",
            "Error reading frame\n",
            "----------------------------\n",
            "DETECTING OBJECTS IN : traffic 2.mp4 : \n",
            "RESOLUTION : 1280x720\n",
            "SAVING TO :/content/video_object_detection_results/yolov8m -- traffic 2.avi\n",
            "Error reading frame\n"
          ]
        }
      ]
    },
    {
      "cell_type": "code",
      "source": [
        "!zip -r img_results.zip /content/image_object_detection_results"
      ],
      "metadata": {
        "id": "NssC0XolnGk_",
        "colab": {
          "base_uri": "https://localhost:8080/"
        },
        "outputId": "728b9b56-874d-407b-fed5-882c18964d09"
      },
      "execution_count": 32,
      "outputs": [
        {
          "output_type": "stream",
          "name": "stdout",
          "text": [
            "updating: content/image_object_detection_results/ (stored 0%)\n",
            "updating: content/image_object_detection_results/yolov8n/ (stored 0%)\n",
            "updating: content/image_object_detection_results/yolov8n/yolov8n -- 2 dogs.jpg (deflated 1%)\n",
            "updating: content/image_object_detection_results/yolov8n/yolov8n -- highway.jpg (deflated 0%)\n",
            "updating: content/image_object_detection_results/yolov8n/yolov8n -- street 2.jpg (deflated 1%)\n",
            "updating: content/image_object_detection_results/yolov8n/yolov8n -- bus.jpg (deflated 0%)\n",
            "updating: content/image_object_detection_results/yolov8n/yolov8n -- 2 cats.jpg (deflated 1%)\n",
            "updating: content/image_object_detection_results/yolov8n/yolov8n -- people crossing the street.jpg (deflated 0%)\n",
            "updating: content/image_object_detection_results/yolov8m/ (stored 0%)\n",
            "updating: content/image_object_detection_results/yolov8m/yolov8m -- people crossing the street.jpg (deflated 0%)\n",
            "updating: content/image_object_detection_results/yolov8m/yolov8m -- bus.jpg (deflated 0%)\n",
            "updating: content/image_object_detection_results/yolov8m/yolov8m -- highway.jpg (deflated 0%)\n",
            "updating: content/image_object_detection_results/yolov8m/yolov8m -- 2 dogs.jpg (deflated 1%)\n",
            "updating: content/image_object_detection_results/yolov8m/yolov8m -- street 2.jpg (deflated 1%)\n",
            "updating: content/image_object_detection_results/yolov8m/yolov8m -- 2 cats.jpg (deflated 1%)\n"
          ]
        }
      ]
    },
    {
      "cell_type": "code",
      "source": [
        "!zip -r vid_results.zip /content/video_object_detection_results"
      ],
      "metadata": {
        "id": "E3GYF0xsxd4h",
        "colab": {
          "base_uri": "https://localhost:8080/"
        },
        "outputId": "3c2293e0-ea44-48ea-d2d0-b15f866c4204"
      },
      "execution_count": 33,
      "outputs": [
        {
          "output_type": "stream",
          "name": "stdout",
          "text": [
            "updating: content/video_object_detection_results/ (stored 0%)\n",
            "updating: content/video_object_detection_results/yolov8n -- traffic 2.avi (deflated 0%)\n",
            "updating: content/video_object_detection_results/yolov8m -- traffic 2.avi (deflated 0%)\n"
          ]
        }
      ]
    }
  ]
}